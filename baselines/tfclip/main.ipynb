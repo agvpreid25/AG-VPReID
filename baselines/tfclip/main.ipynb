{
 "cells": [
  {
   "cell_type": "markdown",
   "metadata": {},
   "source": [
    "# Conda Env"
   ]
  },
  {
   "cell_type": "code",
   "execution_count": null,
   "metadata": {
    "vscode": {
     "languageId": "shellscript"
    }
   },
   "outputs": [],
   "source": [
    "conda create -n tfclip python=3.8\n",
    "source activate tfclip\n",
    "pip install torch==1.11.0+cu113 torchvision==0.12.0+cu113 torchaudio==0.11.0 --extra-index-url https://download.pytorch.org/whl/cu113\n",
    "pip install yacs\n",
    "pip install timm\n",
    "pip install scikit-image\n",
    "pip install tqdm\n",
    "pip install ftfy\n",
    "pip install regex"
   ]
  },
  {
   "cell_type": "markdown",
   "metadata": {},
   "source": [
    "# Train"
   ]
  },
  {
   "cell_type": "code",
   "execution_count": null,
   "metadata": {
    "vscode": {
     "languageId": "shellscript"
    }
   },
   "outputs": [],
   "source": [
    "python train_main.py --output_dir \"logs/all\" > output.txt 2>&1"
   ]
  },
  {
   "cell_type": "markdown",
   "metadata": {},
   "source": [
    "# Eval"
   ]
  },
  {
   "cell_type": "code",
   "execution_count": null,
   "metadata": {
    "vscode": {
     "languageId": "shellscript"
    }
   },
   "outputs": [],
   "source": [
    "python eval_main.py --custom_output_dir \"results/case1_aerial_to_ground\" --output_dir \"logs/all\" \n",
    "# Change the dataset path in \"datasets/set/agreidvid.py\" to case2_ground_to_aerial for query and gallery\n",
    "python eval_main.py --custom_output_dir \"results/case2_ground_to_aerial\" --output_dir \"logs/all\" "
   ]
  }
 ],
 "metadata": {
  "language_info": {
   "name": "python"
  }
 },
 "nbformat": 4,
 "nbformat_minor": 2
}
